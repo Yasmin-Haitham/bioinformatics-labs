{
  "nbformat": 4,
  "nbformat_minor": 0,
  "metadata": {
    "colab": {
      "name": "bioinformatics_final_project.ipynb",
      "provenance": [],
      "collapsed_sections": []
    },
    "kernelspec": {
      "name": "python3",
      "display_name": "Python 3"
    },
    "language_info": {
      "name": "python"
    }
  },
  "cells": [
    {
      "cell_type": "markdown",
      "source": [
        "The idea:\n",
        "<br> \n",
        "Implement Smith waterman\n",
        "<br>\n",
        "with blosum 62 and pam 250 as options for the scoring values "
      ],
      "metadata": {
        "id": "HChIqJi9Rs4L"
      }
    },
    {
      "cell_type": "markdown",
      "source": [
        "import libraries <br> IntEnum to have the classes as enumerated values"
      ],
      "metadata": {
        "id": "lm7nhWzb1mbk"
      }
    },
    {
      "cell_type": "code",
      "source": [
        "from enum import IntEnum\n",
        "import numpy as np"
      ],
      "metadata": {
        "id": "HZOWJ7Wm1plO"
      },
      "execution_count": null,
      "outputs": []
    },
    {
      "cell_type": "markdown",
      "source": [
        "Assigning the constants for the type of files to align"
      ],
      "metadata": {
        "id": "rqKmqghr4UhQ"
      }
    },
    {
      "cell_type": "code",
      "source": [
        "class FASTA_TYPE(IntEnum):\n",
        "  DNA = 1\n",
        "  PROTEIN = 2"
      ],
      "metadata": {
        "id": "f-vrP7RF18G-"
      },
      "execution_count": null,
      "outputs": []
    },
    {
      "cell_type": "markdown",
      "source": [
        "Assigning the constants for the scores"
      ],
      "metadata": {
        "id": "CYyyUTjM2URI"
      }
    },
    {
      "cell_type": "code",
      "source": [
        "class DNA_score(IntEnum):\n",
        "  MATCH = 1\n",
        "  MISMATCH = -1\n",
        "  GAP = -1"
      ],
      "metadata": {
        "id": "Fui_K5ED2XaL"
      },
      "execution_count": null,
      "outputs": []
    },
    {
      "cell_type": "markdown",
      "source": [
        "Assigning the constant values for the traceback"
      ],
      "metadata": {
        "id": "gC1yO5p83yuQ"
      }
    },
    {
      "cell_type": "code",
      "source": [
        "class Trace(IntEnum):\n",
        "    STOP = 0\n",
        "    LEFT = 1 \n",
        "    UP = 2\n",
        "    DIAGONAL = 3"
      ],
      "metadata": {
        "id": "nHocF5BX35RY"
      },
      "execution_count": null,
      "outputs": []
    },
    {
      "cell_type": "markdown",
      "source": [
        "Reading the FASTA files"
      ],
      "metadata": {
        "id": "8N5wj6Qz4FDp"
      }
    },
    {
      "cell_type": "code",
      "source": [
        "def fasta_reader(sequence_file):\n",
        "    lines = open(sequence_file).readlines()\n",
        "    #col 0 , row from 1 to finish to read all attributes \n",
        "    sequence_name_row = lines[0][1:]\n",
        "    sequence = lines[1]\n",
        "    #clean whitespaces\n",
        "    return sequence_name_row.replace(\" \",\"\").strip(), sequence.strip()"
      ],
      "metadata": {
        "id": "lm93AXzMRydY"
      },
      "execution_count": null,
      "outputs": []
    },
    {
      "cell_type": "markdown",
      "source": [
        "Implement get Blosum 62 value"
      ],
      "metadata": {
        "id": "Ti-2rCHlIeg6"
      }
    },
    {
      "cell_type": "code",
      "source": [
        "def Blosum_value(seq1, seq2):\n",
        "  blosum62 = {\n",
        "\"C\":{\"C\":9, \"S\":-1, \"T\":-1, \"P\":-3, \"A\":0,  \"G\":-3,\"N\":-3,\"D\":-3, \"E\":-4, \"Q\":-3, \"H\":-3, \"R\":-3, \"K\":-3, \"M\":-1,\"I\":-1,\"L\":-1, \"V\":-1, \"F\":-2, \"Y\":-2, \"W\":-2},\n",
        "\"S\":{\"C\":-1,\"S\":4,  \"T\":1,  \"P\":-1, \"A\":1,  \"G\":0, \"N\":1, \"D\":0,  \"E\":0,  \"Q\":0,  \"H\":-1, \"R\":-1, \"K\":0,  \"M\":-1,\"I\":-2,\"L\":-2, \"V\":-2, \"F\":-2, \"Y\":-2, \"W\":-3},\n",
        "\"T\":{\"C\":-1,\"S\":1,  \"T\":4,  \"P\":1,  \"A\":-1, \"G\":1, \"N\":0, \"D\":1,  \"E\":0,  \"Q\":0,  \"H\":0,  \"R\":-1, \"K\":0,  \"M\":-1,\"I\":-2,\"L\":-2, \"V\":-2, \"F\":-2, \"Y\":-2, \"W\":-3},\n",
        "\"P\":{\"C\":-3,\"S\":-1, \"T\":1,  \"P\":7,  \"A\":-1, \"G\":-2,\"N\":-1,\"D\":-1, \"E\":-1, \"Q\":-1, \"H\":-2, \"R\":-2, \"K\":-1, \"M\":-2,\"I\":-3,\"L\":-3, \"V\":-2, \"F\":-4, \"Y\":-3, \"W\":-4},\n",
        "\"A\":{\"C\":0, \"S\":1,  \"T\":-1, \"P\":-1, \"A\":4,  \"G\":0, \"N\":-1,\"D\":-2, \"E\":-1, \"Q\":-1, \"H\":-2, \"R\":-1, \"K\":-1, \"M\":-1,\"I\":-1,\"L\":-1, \"V\":-2, \"F\":-2, \"Y\":-2, \"W\":-3},\n",
        "\"G\":{\"C\":-3,\"S\":0,  \"T\":1,  \"P\":-2, \"A\":0,  \"G\":6, \"N\":-2,\"D\":-1, \"E\":-2, \"Q\":-2, \"H\":-2, \"R\":-2, \"K\":-2, \"M\":-3,\"I\":-4,\"L\":-4, \"V\":0,  \"F\":-3, \"Y\":-3, \"W\":-2},\n",
        "\"N\":{\"C\":-3,\"S\":1,  \"T\":0,  \"P\":-2, \"A\":-2, \"G\":0, \"N\":6, \"D\":1,  \"E\":0,  \"Q\":0,  \"H\":-1, \"R\":0,  \"K\":0,  \"M\":-2,\"I\":-3,\"L\":-3, \"V\":-3, \"F\":-3, \"Y\":-2, \"W\":-4},\n",
        "\"D\":{\"C\":-3,\"S\":0,  \"T\":1,  \"P\":-1, \"A\":-2, \"G\":-1,\"N\":1, \"D\":6,  \"E\":2,  \"Q\":0,  \"H\":-1, \"R\":-2, \"K\":-1, \"M\":-3,\"I\":-3,\"L\":-4, \"V\":-3, \"F\":-3, \"Y\":-3, \"W\":-4},\n",
        "\"E\":{\"C\":-4,\"S\":0,  \"T\":0,  \"P\":-1, \"A\":-1, \"G\":-2,\"N\":0, \"D\":2,  \"E\":5,  \"Q\":2,  \"H\":0,  \"R\":0,  \"K\":1,  \"M\":-2,\"I\":-3,\"L\":-3, \"V\":-3, \"F\":-3, \"Y\":-2, \"W\":-3},\n",
        "\"Q\":{\"C\":-3,\"S\":0,  \"T\":0,  \"P\":-1, \"A\":-1, \"G\":-2,\"N\":0, \"D\":0,  \"E\":2,  \"Q\":5,  \"H\":0,  \"R\":1,  \"K\":1,  \"M\":0, \"I\":-3,\"L\":-2, \"V\":-2, \"F\":-3, \"Y\":-1, \"W\":-2},\n",
        "\"H\":{\"C\":-3,\"S\":-1, \"T\":0,  \"P\":-2, \"A\":-2, \"G\":-2,\"N\":1, \"D\":1,  \"E\":0,  \"Q\":0,  \"H\":8,  \"R\":0,  \"K\":-1, \"M\":-2,\"I\":-3,\"L\":-3, \"V\":-2, \"F\":-1, \"Y\":2,  \"W\":-2},\n",
        "\"R\":{\"C\":-3,\"S\":-1, \"T\":-1, \"P\":-2, \"A\":-1, \"G\":-2,\"N\":0, \"D\":-2, \"E\":0,  \"Q\":1,  \"H\":0,  \"R\":5,  \"K\":2,  \"M\":-1,\"I\":-3,\"L\":-2, \"V\":-3, \"F\":-3, \"Y\":-2, \"W\":-3},\n",
        "\"K\":{\"C\":-3,\"S\":0,  \"T\":0,  \"P\":-1, \"A\":-1, \"G\":-2,\"N\":0, \"D\":-1, \"E\":1,  \"Q\":1,  \"H\":-1, \"R\":2,  \"K\":5,  \"M\":-1,\"I\":-3,\"L\":-2, \"V\":-3, \"F\":-3, \"Y\":-2, \"W\":-3},\n",
        "\"M\":{\"C\":-1,\"S\":-1, \"T\":-1, \"P\":-2, \"A\":-1, \"G\":-3,\"N\":-2,\"D\":-3, \"E\":-2, \"Q\":0,  \"H\":-2, \"R\":-1, \"K\":-1, \"M\":5, \"I\":1, \"L\":2,  \"V\":-2, \"F\":0,  \"Y\":-1, \"W\":-1},\n",
        "\"I\":{\"C\":-1,\"S\":-2, \"T\":-2, \"P\":-3, \"A\":-1, \"G\":-4,\"N\":-3,\"D\":-3, \"E\":-3, \"Q\":-3, \"H\":-3, \"R\":-3, \"K\":-3, \"M\":1, \"I\":4, \"L\":2,  \"V\":1,  \"F\":0,  \"Y\":-1, \"W\":-3},\n",
        "\"L\":{\"C\":-1,\"S\":-2, \"T\":-2, \"P\":-3, \"A\":-1, \"G\":-4,\"N\":-3,\"D\":-4, \"E\":-3, \"Q\":-2, \"H\":-3, \"R\":-2, \"K\":-2, \"M\":2, \"I\":2, \"L\":4,  \"V\":3,  \"F\":0,  \"Y\":-1, \"W\":-2},\n",
        "\"V\":{\"C\":-1,\"S\":-2, \"T\":-2, \"P\":-2, \"A\":0,  \"G\":-3,\"N\":-3,\"D\":-3, \"E\":-2, \"Q\":-2, \"H\":-3, \"R\":-3, \"K\":-2, \"M\":1, \"I\":3, \"L\":1,  \"V\":4,  \"F\":-1, \"Y\":-1, \"W\":-3},\n",
        "\"F\":{\"C\":-2,\"S\":-2, \"T\":-2, \"P\":-4, \"A\":-2, \"G\":-3,\"N\":-3,\"D\":-3, \"E\":-3, \"Q\":-3, \"H\":-1, \"R\":-3, \"K\":-3, \"M\":0, \"I\":0, \"L\":0,  \"V\":-1, \"F\":6,  \"Y\":3,  \"W\":1},\n",
        "\"Y\":{\"C\":-2,\"S\":-2, \"T\":-2, \"P\":-3, \"A\":-2, \"G\":-3,\"N\":-2,\"D\":-3, \"E\":-2, \"Q\":-1, \"H\":2,  \"R\":-2, \"K\":-2, \"M\":-1,\"I\":-1,\"L\":-1, \"V\":-1, \"F\":3,  \"Y\":7,  \"W\":2},\n",
        "\"W\":{\"C\":-2,\"S\":-3, \"T\":-3, \"P\":-4, \"A\":-3, \"G\":-2,\"N\":-4,\"D\":-4, \"E\":-3, \"Q\":-2, \"H\":-2, \"R\":-3, \"K\":-3, \"M\":-1,\"I\":-3,\"L\":-2, \"V\":-3, \"F\":1,  \"Y\":2,  \"W\":11}\n",
        "}\n",
        "\n",
        "  for s1 in blosum62:\n",
        "    if s1 == seq1:\n",
        "      for s2 in blosum62[s1]:\n",
        "        if s2 == seq2:\n",
        "          return blosum62[s1][s2]\n"
      ],
      "metadata": {
        "id": "VX2BrX6KInBv"
      },
      "execution_count": null,
      "outputs": []
    },
    {
      "cell_type": "code",
      "source": [
        ""
      ],
      "metadata": {
        "id": "MZJgkm5Emd63"
      },
      "execution_count": null,
      "outputs": []
    },
    {
      "cell_type": "code",
      "source": [
        "def Pam_value(seq1, seq2):\n",
        "  Pam250 = {\n",
        "\"C\":{\"C\":12, \"S\": 0, \"T\":-2, \"P\":-3, \"A\":-2, \"G\":-3, \"N\":-4,\"D\":-5, \"E\":-5, \"Q\":-5, \"H\":-3, \"R\":-4, \"K\":-5, \"M\":-5,\"I\":-2,\"L\":-6, \"V\":-2, \"F\":-4,  \"Y\": 0, \"W\":-8},\n",
        "\"S\":{\"C\": 0, \"S\": 2, \"T\": 1, \"P\": 1, \"A\": 1, \"G\": 1, \"N\": 1,\"D\": 0, \"E\": 0, \"Q\":-1, \"H\":-1, \"R\": 0, \"K\": 0, \"M\":-2,\"I\":-1,\"L\":-3, \"V\":-1, \"F\":-3,  \"Y\":-3, \"W\":-2},\n",
        "\"T\":{\"C\":-2, \"S\": 1, \"T\": 3, \"P\": 0, \"A\": 1, \"G\": 0, \"N\": 0,\"D\": 0, \"E\": 0, \"Q\":-1, \"H\":-1, \"R\":-1, \"K\": 0, \"M\":-1,\"I\": 0,\"L\":-2, \"V\": 0, \"F\":-3,  \"Y\":-3, \"W\":-5},\n",
        "\"P\":{\"C\":-3, \"S\": 1, \"T\": 0, \"P\": 6, \"A\": 1, \"G\":-1, \"N\":-1,\"D\":-1, \"E\":-1, \"Q\": 0, \"H\": 0, \"R\": 0, \"K\":-1, \"M\":-2,\"I\":-2,\"L\":-3, \"V\":-1, \"F\":-5,  \"Y\":-5, \"W\":-6},\n",
        "\"A\":{\"C\":-2, \"S\": 1, \"T\": 1, \"P\": 1, \"A\": 2, \"G\": 1, \"N\": 0,\"D\": 0, \"E\": 0, \"Q\": 0, \"H\":-1, \"R\":-2, \"K\":-1, \"M\":-1,\"I\":-1,\"L\":-2, \"V\": 0, \"F\":-4,  \"Y\":-3, \"W\":-6},\n",
        "\"G\":{\"C\":-3, \"S\": 1, \"T\": 0, \"P\":-1, \"A\": 1, \"G\": 5, \"N\": 0,\"D\": 1, \"E\": 0, \"Q\":-1, \"H\":-2, \"R\":-3, \"K\":-2, \"M\":-3,\"I\":-2,\"L\":-4, \"V\":-1, \"F\":-5,  \"Y\":-5, \"W\":-7},\n",
        "\"N\":{\"C\":-4, \"S\": 1, \"T\": 0, \"P\":-1, \"A\": 0, \"G\": 0, \"N\": 2,\"D\": 2, \"E\": 1, \"Q\": 1, \"H\": 2, \"R\": 0, \"K\": 1, \"M\":-2,\"I\":-2,\"L\":-3, \"V\":-2, \"F\":-4,  \"Y\":-2, \"W\":-4},\n",
        "\"D\":{\"C\":-5, \"S\": 0, \"T\": 0, \"P\":-1, \"A\": 0, \"G\": 1, \"N\": 2,\"D\": 4, \"E\": 3, \"Q\": 2, \"H\": 1, \"R\":-1, \"K\": 0, \"M\":-3,\"I\":-2,\"L\":-4, \"V\":-2, \"F\":-6,  \"Y\":-4, \"W\":-7},\n",
        "\"E\":{\"C\":-5, \"S\": 0, \"T\": 0, \"P\":-1, \"A\": 0, \"G\": 0, \"N\": 1,\"D\": 3, \"E\": 4, \"Q\": 2, \"H\": 1, \"R\":-1, \"K\": 0, \"M\":-2,\"I\":-2,\"L\":-3, \"V\":-2, \"F\":-5,  \"Y\":-4, \"W\":-7},\n",
        "\"Q\":{\"C\":-5, \"S\":-1, \"T\":-1, \"P\": 0, \"A\": 0, \"G\":-1, \"N\": 1,\"D\": 2, \"E\": 2, \"Q\": 4, \"H\": 3, \"R\": 1, \"K\": 1, \"M\":-1,\"I\":-2,\"L\":-2, \"V\":-2, \"F\":-5,  \"Y\":-4, \"W\":-5},\n",
        "\"H\":{\"C\":-3, \"S\":-1, \"T\":-1, \"P\": 0, \"A\":-1, \"G\":-2, \"N\": 2,\"D\": 1, \"E\": 1, \"Q\": 3, \"H\": 6, \"R\": 2, \"K\": 0, \"M\":-2,\"I\":-2,\"L\":-2, \"V\":-2, \"F\":-2,  \"Y\": 0, \"W\":-3},\n",
        "\"R\":{\"C\":-4, \"S\": 0, \"T\":-1, \"P\": 0, \"A\":-2, \"G\":-3, \"N\": 0,\"D\":-1, \"E\":-1, \"Q\": 1, \"H\": 2, \"R\": 6, \"K\": 3, \"M\": 0,\"I\":-2,\"L\":-3, \"V\":-2, \"F\":-4,  \"Y\":-4, \"W\": 2},\n",
        "\"K\":{\"C\":-5, \"S\": 0, \"T\": 0, \"P\":-1, \"A\":-1, \"G\":-2, \"N\": 1,\"D\": 0, \"E\": 0, \"Q\": 1, \"H\": 0, \"R\": 3, \"K\": 5, \"M\": 0,\"I\":-2,\"L\":-3, \"V\":-2, \"F\":-5,  \"Y\":-4, \"W\":-3},\n",
        "\"M\":{\"C\":-5, \"S\":-2, \"T\":-1, \"P\":-2, \"A\":-1, \"G\":-3, \"N\":-2,\"D\":-3, \"E\":-2, \"Q\":-1, \"H\":-2, \"R\": 0, \"K\": 0, \"M\": 6, \"I\":2,\"L\": 4, \"V\": 2, \"F\": 0,  \"Y\":-2, \"W\":-4},\n",
        "\"I\":{\"C\":-2, \"S\":-1, \"T\": 0, \"P\":-2, \"A\":-1, \"G\":-3, \"N\":-2,\"D\":-2, \"E\":-2, \"Q\":-2, \"H\":-2, \"R\":-2, \"K\":-2, \"M\": 2, \"I\":5,\"L\": 2, \"V\": 4, \"F\": 1,  \"Y\":-1, \"W\":-5},\n",
        "\"L\":{\"C\":-6, \"S\":-3, \"T\":-2, \"P\":-3, \"A\":-2, \"G\":-4, \"N\":-3,\"D\":-4, \"E\":-3, \"Q\":-2, \"H\":-2, \"R\":-3, \"K\":-3, \"M\": 4, \"I\":2,\"L\": 6, \"V\": 2, \"F\": 2,  \"Y\":-1, \"W\":-2},\n",
        "\"V\":{\"C\":-2, \"S\":-1, \"T\": 0, \"P\":-1, \"A\": 0, \"G\":-1, \"N\":-2,\"D\":-2, \"E\":-2, \"Q\":-2, \"H\":-2, \"R\":-2, \"K\":-2, \"M\": 2, \"I\":4,\"L\": 2, \"V\": 4, \"F\":-1,  \"Y\":-2, \"W\":-6},\n",
        "\"F\":{\"C\":-4, \"S\":-3, \"T\":-3, \"P\":-5, \"A\":-4, \"G\":-5, \"N\":-4,\"D\":-6, \"E\":-5, \"Q\":-5, \"H\":-2, \"R\":-4, \"K\":-5, \"M\": 0, \"I\":1,\"L\": 2, \"V\":-1, \"F\": 9,  \"Y\": 7, \"W\": 0},\n",
        "\"Y\":{\"C\": 0, \"S\":-3, \"T\":-3, \"P\":-5, \"A\":-3, \"G\":-5, \"N\":-2,\"D\":-4, \"E\":-4, \"Q\":-4, \"H\": 0, \"R\":-4, \"K\":-4, \"M\":-2,\"I\":-1,\"L\":-1, \"V\":-2, \"F\": 7,  \"Y\":10, \"W\": 0},\n",
        "\"W\":{\"C\":-8, \"S\":-2, \"T\":-5, \"P\":-6, \"A\":-6, \"G\":-7, \"N\":-4,\"D\":-7, \"E\":-7, \"Q\":-5, \"H\":-3, \"R\":-2, \"K\":-3, \"M\":-4,\"I\":-5,\"L\":-2, \"V\":-6, \"F\": 0,  \"Y\": 0, \"W\":17}\n",
        "}\n",
        "\n",
        "  for s1 in Pam250:\n",
        "    if s1 == seq1:\n",
        "      for s2 in Pam250[s1]:\n",
        "        if s2 == seq2:\n",
        "          return Pam250[s1][s2]\n"
      ],
      "metadata": {
        "id": "iPrxTTpHmemK"
      },
      "execution_count": null,
      "outputs": []
    },
    {
      "cell_type": "markdown",
      "source": [
        "Implementing the Smith Waterman Algorithm "
      ],
      "metadata": {
        "id": "IQDM2qcx4lv9"
      }
    },
    {
      "cell_type": "code",
      "source": [
        "def smith_waterman(seq1, seq2 , fasta_type, protein_score):\n",
        "    # Generating the empty matrices for storing scores and tracing\n",
        "    row = len(seq1) + 1\n",
        "    col = len(seq2) + 1\n",
        "    matrix = np.zeros(shape=(row, col), dtype=np.intc)  \n",
        "    tracing_matrix = np.zeros(shape=(row, col), dtype=np.intc)  \n",
        "    \n",
        "    \n",
        "    # Initialising the variables to find the highest scoring cell\n",
        "    max_score = -1\n",
        "    max_index = (-1, -1)\n",
        "    \n",
        "    # Calculating the scores for all cells in the matrix\n",
        "    for i in range(1, row):\n",
        "        for j in range(1, col):\n",
        "          # FInding what type of FASTA File \n",
        "          if fasta_type == FASTA_TYPE.DNA:\n",
        "            # Calculating the diagonal score (match score) //note to self : seq1-1 is because you added 1 to the row value and iterate on it but seq1 is still the same so you need to -1 \n",
        "            \n",
        "            match_value = DNA_score.MATCH if seq1[i - 1] == seq2[j - 1] else DNA_score.MISMATCH\n",
        "            diagonal_score = matrix[i - 1, j - 1] + match_value\n",
        "            \n",
        "            # Calculating the vertical gap score\n",
        "            vertical_score = matrix[i - 1, j] + DNA_score.GAP\n",
        "            \n",
        "            # Calculating the horizontal gap score\n",
        "            horizontal_score = matrix[i, j - 1] + DNA_score.GAP\n",
        "            \n",
        "            # Taking the highest score \n",
        "            matrix[i, j] = max(0, diagonal_score, vertical_score, horizontal_score)\n",
        "\n",
        "            # Protein alignment using blosum 62\n",
        "          elif fasta_type == FASTA_TYPE.PROTEIN:\n",
        "            # Calculating the diagonal score (match score)\n",
        "            if protein_score == 1:\n",
        "              match_value = Blosum_value(seq1[i-1], seq2[j-1] )\n",
        "            elif protein_score == 2:\n",
        "              match_value = Pam_value(seq1[i-1], seq2[j-1] )\n",
        "            diagonal_score = matrix[i - 1, j - 1] + match_value\n",
        "            \n",
        "            # Calculating the vertical gap score\n",
        "            vertical_score = matrix[i - 1, j] + DNA_score.GAP\n",
        "            \n",
        "            # Calculating the horizontal gap score\n",
        "            horizontal_score = matrix[i, j - 1] + DNA_score.GAP\n",
        "            \n",
        "            # Taking the highest score \n",
        "            matrix[i, j] = max(0, diagonal_score, vertical_score, horizontal_score)\n",
        "            \n",
        "          # Tracking where the cell's value is coming from    \n",
        "          if matrix[i, j] == 0: \n",
        "              tracing_matrix[i, j] = Trace.STOP\n",
        "              \n",
        "          elif matrix[i, j] == horizontal_score: \n",
        "              tracing_matrix[i, j] = Trace.LEFT\n",
        "              \n",
        "          elif matrix[i, j] == vertical_score: \n",
        "              tracing_matrix[i, j] = Trace.UP\n",
        "              \n",
        "          elif matrix[i, j] == diagonal_score: \n",
        "              tracing_matrix[i, j] = Trace.DIAGONAL \n",
        "              \n",
        "          # Tracking the cell with the maximum score\n",
        "          if matrix[i, j] >= max_score:\n",
        "              max_index = (i,j)\n",
        "              max_score = matrix[i, j]\n",
        "                \n",
        "    \n",
        "    # Initialising the variables for tracing\n",
        "    aligned_seq1 = \"\"\n",
        "    aligned_seq2 = \"\"   \n",
        "    current_aligned_seq1 = \"\"   \n",
        "    current_aligned_seq2 = \"\"  \n",
        "    (max_i, max_j) = max_index\n",
        "    \n",
        "    # Tracing and computing the pathway with the local alignment\n",
        "    while tracing_matrix[max_i, max_j] != Trace.STOP:\n",
        "      #diagonal move from both letters\n",
        "        if tracing_matrix[max_i, max_j] == Trace.DIAGONAL:\n",
        "            current_aligned_seq1 = seq1[max_i - 1]\n",
        "            current_aligned_seq2 = seq2[max_j - 1]\n",
        "            max_i = max_i - 1\n",
        "            max_j = max_j - 1\n",
        "      #insert a gap seq2\n",
        "        elif tracing_matrix[max_i, max_j] == Trace.UP:\n",
        "            current_aligned_seq1 = seq1[max_i - 1]\n",
        "            current_aligned_seq2 = '-'\n",
        "            max_i = max_i - 1    \n",
        "      #insert a gap seq1\n",
        "        elif tracing_matrix[max_i, max_j] == Trace.LEFT:\n",
        "            current_aligned_seq1 = '-'\n",
        "            current_aligned_seq2 = seq2[max_j - 1]\n",
        "            max_j = max_j - 1\n",
        "      #appened the current movement to string  \n",
        "        aligned_seq1 = aligned_seq1 + current_aligned_seq1\n",
        "        aligned_seq2 = aligned_seq2 + current_aligned_seq2\n",
        "    \n",
        "    # Reversing the order of the sequences\n",
        "    aligned_seq1 = aligned_seq1[::-1]\n",
        "    aligned_seq2 = aligned_seq2[::-1]\n",
        "    #\n",
        "    print(matrix)\n",
        "    return aligned_seq1, aligned_seq2 ,max_score"
      ],
      "metadata": {
        "id": "lElkekMZ5ENU"
      },
      "execution_count": null,
      "outputs": []
    },
    {
      "cell_type": "code",
      "source": [
        "file_1_name, file_1 = fasta_reader(\"/content/drive/MyDrive/bioinformatics project /rand_prot1.fasta\")\n",
        "file_2_name, file_2  = fasta_reader(\"/content/drive/MyDrive/bioinformatics project /rand_prot2.fasta\")\n",
        "    \n",
        "# Executing the Smith Waterman local alignment algorithm\n",
        "# File 1, File 2, fasta type (1 -> DNA, 2 -> protein), protein score(1-> blosum 2->pam)\n",
        "output_1, output_2, max_score = smith_waterman(file_1, file_2 , 2,1)\n",
        "\n",
        "print('Maximum score of this local alignment: ' + str(max_score))   \n",
        "print(file_1_name +' :'+ output_1  + '\\n' + file_2_name +' :'+ output_2)"
      ],
      "metadata": {
        "id": "xqRk1YQZ1CQy",
        "colab": {
          "base_uri": "https://localhost:8080/"
        },
        "outputId": "74b2252a-1f14-42fe-b236-9036555836bc"
      },
      "execution_count": null,
      "outputs": [
        {
          "output_type": "stream",
          "name": "stdout",
          "text": [
            "[[ 0  0  0  0  0  0  0  0  0  0  0]\n",
            " [ 0  9  8  7  6  5  4  3  2  1  0]\n",
            " [ 0  8 10  9  8  7  6  5  4  3  2]\n",
            " [ 0  7 12 11 10  9  8  7  6  5  4]\n",
            " [ 0  6 11 18 17 16 15 14 13 12 11]\n",
            " [ 0  5 10 17 25 24 23 22 21 20 19]\n",
            " [ 0  4  9 16 24 24 23 22 22 21 20]\n",
            " [ 0  3  8 15 23 23 22 21 21 26 25]\n",
            " [ 0  2  7 14 22 31 30 29 28 27 34]]\n",
            "Maximum score of this local alignment: 34\n",
            "Seq1 :CSADP---SIH\n",
            "Seq2 :C-ADPHRREIH\n"
          ]
        }
      ]
    },
    {
      "cell_type": "code",
      "source": [
        ""
      ],
      "metadata": {
        "id": "fVWKvwhlli_0"
      },
      "execution_count": null,
      "outputs": []
    }
  ]
}